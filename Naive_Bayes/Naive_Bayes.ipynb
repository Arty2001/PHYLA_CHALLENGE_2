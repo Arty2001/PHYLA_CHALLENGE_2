{
  "nbformat": 4,
  "nbformat_minor": 0,
  "metadata": {
    "colab": {
      "name": "Naive_Bayes.ipynb",
      "provenance": [],
      "collapsed_sections": []
    },
    "kernelspec": {
      "name": "python3",
      "display_name": "Python 3"
    },
    "language_info": {
      "name": "python"
    }
  },
  "cells": [
    {
      "cell_type": "code",
      "source": [
        "import pandas as pd\n",
        "import numpy as np\n",
        "\n",
        "from sklearn.metrics import accuracy_score\n",
        "from sklearn.model_selection import train_test_split\n",
        "from sklearn.metrics import f1_score\n",
        "import matplotlib.pyplot as mp\n",
        "from sklearn.naive_bayes import ComplementNB\n",
        "from sklearn.metrics import cohen_kappa_score\n",
        "\n",
        "npseed = 4321"
      ],
      "metadata": {
        "id": "7g6B5mjLgKnM"
      },
      "execution_count": 1,
      "outputs": []
    },
    {
      "cell_type": "code",
      "source": [
        "data = pd.read_csv('/content/sample_data/challenge_1_gut_microbiome_data.csv', error_bad_lines = False)\n",
        "\n",
        "data['disease'] = data['disease'].replace(['Healthy'],'0') \n",
        "data['disease'] = data['disease'].replace(['Disease-1'],'1') \n",
        "data['disease'] = data['disease'].replace(['Disease-2'],'2') \n",
        "data['disease'] = data['disease'].replace(['Disease-3'],'3') \n",
        "\n",
        "#drop column with sample name\n",
        "data = data.drop(data.columns[0], axis=1)\n",
        "data.reset_index(drop=True, inplace=True)\n",
        "data = data.astype(float)"
      ],
      "metadata": {
        "colab": {
          "base_uri": "https://localhost:8080/"
        },
        "id": "NpZtgKsNgPrw",
        "outputId": "7189f964-2789-47a5-e1e4-8095eefb70f2"
      },
      "execution_count": 3,
      "outputs": [
        {
          "output_type": "stream",
          "name": "stderr",
          "text": [
            "/usr/local/lib/python3.7/dist-packages/IPython/core/interactiveshell.py:2882: FutureWarning: The error_bad_lines argument has been deprecated and will be removed in a future version.\n",
            "\n",
            "\n",
            "  exec(code_obj, self.user_global_ns, self.user_ns)\n"
          ]
        }
      ]
    },
    {
      "cell_type": "code",
      "source": [
        "#separating target values and features \n",
        "data = data.to_numpy()\n",
        "x, y = data[:,:-1], data[:,-1]\n"
      ],
      "metadata": {
        "id": "lQfxlVB7gVsv"
      },
      "execution_count": 4,
      "outputs": []
    },
    {
      "cell_type": "code",
      "source": [
        "#split is 75% training 25% test \n",
        "(X_train, X_test, y_train, y_test) = train_test_split(x, y, train_size=0.75, random_state=180)\n",
        "\n",
        "#apply naive Bayes\n",
        "clf = ComplementNB(alpha=0.5)\n",
        "clf.fit(X_train, y_train)\n",
        "y_pred = clf.predict(X_test)\n",
        "\n",
        "print(f1_score(y_test,y_pred, average='weighted')*100)\n",
        "print(cohen_kappa_score(y_test,y_pred)*100)"
      ],
      "metadata": {
        "colab": {
          "base_uri": "https://localhost:8080/"
        },
        "id": "4SKc_wslXItv",
        "outputId": "8407b7c1-ea98-457e-a07d-c9766c0cad84"
      },
      "execution_count": 7,
      "outputs": [
        {
          "output_type": "stream",
          "name": "stdout",
          "text": [
            "59.36892525326154\n",
            "38.457087842599115\n"
          ]
        }
      ]
    }
  ]
}