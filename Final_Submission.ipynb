{
  "cells": [
    {
      "cell_type": "markdown",
      "metadata": {
        "id": "ud1K3xOZybPw"
      },
      "source": [
        "# Final Submission to Phyla Challenge Two : Multi-Disease Classification"
      ]
    },
    {
      "cell_type": "markdown",
      "metadata": {},
      "source": [
        "## Reading Data"
      ]
    },
    {
      "cell_type": "code",
      "execution_count": null,
      "metadata": {},
      "outputs": [],
      "source": [
        "import pandas as pd\n",
        "\n",
        "data = pd.read_csv('/content/sample_data/challenge_1_gut_microbiome_data.csv', error_bad_lines = False)\n",
        "data.head()"
      ]
    },
    {
      "cell_type": "markdown",
      "metadata": {},
      "source": [
        "## Pre-Processing Data"
      ]
    },
    {
      "cell_type": "markdown",
      "metadata": {},
      "source": [
        "SMOTE"
      ]
    },
    {
      "cell_type": "code",
      "execution_count": null,
      "metadata": {},
      "outputs": [],
      "source": [
        "from imblearn.over_sampling import SMOTE\n",
        "\n",
        "smote = SMOTE()\n",
        "bacteria_names= list(data.columns)[1:-1]\n",
        "all_bacteria, all_diseases = smote.fit_resample(data[bacteria_names], data['disease'])"
      ]
    },
    {
      "cell_type": "markdown",
      "metadata": {},
      "source": [
        "One-Hot Encoded Y"
      ]
    },
    {
      "cell_type": "code",
      "execution_count": null,
      "metadata": {},
      "outputs": [],
      "source": [
        "from sklearn.preprocessing import LabelEncoder\n",
        "from keras.utils import np_utils\n",
        "\n",
        "encoder=LabelEncoder()\n",
        "encoder.fit(all_diseases)\n",
        "encoded_Y=encoder.transform(all_diseases)\n",
        "dummy_y = np_utils.to_categorical(encoded_Y)"
      ]
    },
    {
      "cell_type": "markdown",
      "metadata": {},
      "source": [
        "Standard Scaler"
      ]
    },
    {
      "cell_type": "code",
      "execution_count": null,
      "metadata": {},
      "outputs": [],
      "source": [
        "from sklearn import preprocessing\n",
        "\n",
        "scaler = preprocessing.StandardScaler()\n",
        "all_bacteria_scaled= scaler.fit_transform(all_bacteria)\n",
        "all_bacteria_scaled"
      ]
    },
    {
      "cell_type": "markdown",
      "metadata": {},
      "source": [
        "## Sequential Neural Network"
      ]
    },
    {
      "cell_type": "code",
      "execution_count": null,
      "metadata": {},
      "outputs": [],
      "source": [
        "from keras.models import Sequential\n",
        "from keras.layers import Dense\n",
        "from keras.wrappers.scikit_learn import KerasClassifier\n",
        "\n",
        "\n",
        "model = Sequential()\n",
        "model.add(Dense(500, input_dim=1094, activation='relu'))\n",
        "model.add(Dense(175, activation='relu'))\n",
        "model.add(Dense(75, activation='relu'))\n",
        "model.add(Dense(4, activation='softmax'))\n",
        "model.compile(loss='categorical_crossentropy', optimizer='adam', metrics=['accuracy'])"
      ]
    },
    {
      "cell_type": "markdown",
      "metadata": {},
      "source": [
        "# Final results"
      ]
    },
    {
      "cell_type": "markdown",
      "metadata": {},
      "source": [
        "Convert List of probabilities to the Desired Disease"
      ]
    },
    {
      "cell_type": "code",
      "execution_count": null,
      "metadata": {},
      "outputs": [],
      "source": [
        "def simplify_softmax (results) :\n",
        "  \n",
        "  new=[]\n",
        "  diseases=['Disease-1','Disease-2','Disease-3','Healthy']\n",
        "  for result in results:\n",
        "    l=list(result)\n",
        "    ind = l.index(max(l))\n",
        "    new.append(diseases[ind])\n",
        "  return new"
      ]
    },
    {
      "cell_type": "markdown",
      "metadata": {},
      "source": [
        "Cross Validation of Model"
      ]
    },
    {
      "cell_type": "code",
      "execution_count": null,
      "metadata": {},
      "outputs": [],
      "source": [
        "from sklearn.metrics import cohen_kappa_score\n",
        "cv_scores=[]\n",
        "ck=[]\n",
        "for i in range(10):\n",
        "  model = Sequential()\n",
        "  model.add(Dense(500, input_dim=1094, activation='relu'))\n",
        "  model.add(Dense(175, activation='relu'))\n",
        "  model.add(Dense(75, activation='relu'))\n",
        "  model.add(Dense(4, activation='softmax'))\n",
        "  model.compile(loss='categorical_crossentropy', optimizer='adam', metrics=['accuracy'])\n",
        "\n",
        "  X_train, X_test, y_train, y_test = train_test_split(all_bacteria_scaled, dummy_y, test_size=0.25)\n",
        "  model.fit(X_train, y_train, epochs=50)\n",
        "  pred_test=model.predict(X_test)\n",
        "  scores2 = model.evaluate(X_test, y_test, verbose=0)\n",
        "  cv_scores.append(scores2[1]*100)\n",
        "\n",
        "  y_pred = simplify_softmax(pred_test)\n",
        "  y_test1 = simplify_softmax(y_test) \n",
        "\n",
        "  ck.append(cohen_kappa_score(y_test1,y_pred))\n"
      ]
    },
    {
      "cell_type": "markdown",
      "metadata": {},
      "source": [
        "F1_Score"
      ]
    },
    {
      "cell_type": "code",
      "execution_count": null,
      "metadata": {},
      "outputs": [],
      "source": [
        "import matplotlib.pyplot as plt\n",
        "\n",
        "plt.boxplot(cv_scores)\n",
        "plt.show()"
      ]
    },
    {
      "cell_type": "markdown",
      "metadata": {},
      "source": [
        "Cohen_Kappa Score"
      ]
    },
    {
      "cell_type": "code",
      "execution_count": null,
      "metadata": {},
      "outputs": [],
      "source": [
        "\n",
        "plt.boxplot(ck)\n",
        "plt.show()"
      ]
    }
  ],
  "metadata": {
    "colab": {
      "collapsed_sections": [],
      "name": "Pharmahacks.ipynb",
      "provenance": []
    },
    "kernelspec": {
      "display_name": "Python 3",
      "name": "python3"
    },
    "language_info": {
      "codemirror_mode": {
        "name": "ipython",
        "version": 3
      },
      "file_extension": ".py",
      "mimetype": "text/x-python",
      "name": "python",
      "nbconvert_exporter": "python",
      "pygments_lexer": "ipython3",
      "version": "3.6.13"
    }
  },
  "nbformat": 4,
  "nbformat_minor": 0
}
