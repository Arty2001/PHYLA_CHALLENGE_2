{
  "nbformat": 4,
  "nbformat_minor": 0,
  "metadata": {
    "colab": {
      "name": "Decision_Tree.ipynb",
      "provenance": [],
      "collapsed_sections": []
    },
    "kernelspec": {
      "name": "python3",
      "display_name": "Python 3"
    },
    "language_info": {
      "name": "python"
    }
  },
  "cells": [
    {
      "cell_type": "code",
      "source": [
        "import pandas as pd\n",
        "import numpy as np\n",
        "\n",
        "from sklearn.tree import DecisionTreeClassifier\n",
        "from sklearn.metrics import accuracy_score\n",
        "from sklearn.model_selection import train_test_split\n",
        "from sklearn.metrics import f1_score\n",
        "import matplotlib.pyplot as plt\n",
        "from sklearn.metrics import cohen_kappa_score\n",
        "\n",
        "npseed = 4321"
      ],
      "metadata": {
        "id": "2sTWDpVlIiX-"
      },
      "execution_count": 10,
      "outputs": []
    },
    {
      "cell_type": "code",
      "source": [
        "data = pd.read_csv('/content/sample_data/challenge_1_gut_microbiome_data.csv', error_bad_lines = False)\n",
        "\n",
        "#replacing disease value by a number 0 being healthy\n",
        "data['disease'] = data['disease'].replace(['Healthy'],'0') \n",
        "data['disease'] = data['disease'].replace(['Disease-1'],'1') \n",
        "data['disease'] = data['disease'].replace(['Disease-2'],'2') \n",
        "data['disease'] = data['disease'].replace(['Disease-3'],'3') \n",
        "\n",
        "#drop column with sample name\n",
        "data = data.drop(data.columns[0], axis=1)\n",
        "data.reset_index(drop=True, inplace=True)\n",
        "data = data.astype(float) "
      ],
      "metadata": {
        "colab": {
          "base_uri": "https://localhost:8080/"
        },
        "id": "k_WN1DfBiozH",
        "outputId": "bc6c8216-79de-4875-a142-adc94a800cfd"
      },
      "execution_count": 11,
      "outputs": [
        {
          "output_type": "stream",
          "name": "stderr",
          "text": [
            "/usr/local/lib/python3.7/dist-packages/IPython/core/interactiveshell.py:2882: FutureWarning: The error_bad_lines argument has been deprecated and will be removed in a future version.\n",
            "\n",
            "\n",
            "  exec(code_obj, self.user_global_ns, self.user_ns)\n"
          ]
        }
      ]
    },
    {
      "cell_type": "code",
      "source": [
        "data = data.to_numpy()\n",
        "x, y = data[:,:-1], data[:,-1]\n"
      ],
      "metadata": {
        "id": "U-uwcGeLisHC"
      },
      "execution_count": 12,
      "outputs": []
    },
    {
      "cell_type": "code",
      "source": [
        "#split is 75% training 25% test \n",
        "\n",
        "(X_train, X_test, y_train, y_test) = train_test_split(x, y, train_size=0.75, random_state=183)\n"
      ],
      "metadata": {
        "id": "X0OPzfkTi0De"
      },
      "execution_count": 13,
      "outputs": []
    },
    {
      "cell_type": "code",
      "source": [
        "#test for best random state \n",
        "def random_state(random_state):\n",
        "\n",
        "  (X_train, X_test, y_train, y_test) = train_test_split(x, y, train_size=0.75,random_state = random_state)\n",
        "\n",
        "  clf = DecisionTreeClassifier(criterion = 'entropy' , random_state = 1,\n",
        "                               max_depth=14, min_samples_leaf=5)\n",
        "\n",
        "  clf.fit(X_train, y_train)\n",
        "\n",
        "  y_pred = clf.predict(X_test)\n",
        "\n",
        "  return f1_score(y_test,y_pred, average='weighted')*100\n"
      ],
      "metadata": {
        "id": "M5oZOkbHi1wO"
      },
      "execution_count": 14,
      "outputs": []
    },
    {
      "cell_type": "code",
      "source": [
        "#test for best max depth\n",
        "def test_max_depth(max_depth):\n",
        "\n",
        "  clf = DecisionTreeClassifier(criterion = 'entropy' , random_state = 1,\n",
        "                               max_depth=max_depth, min_samples_leaf=5)\n",
        "\n",
        "  clf.fit(X_train, y_train)\n",
        "\n",
        "  y_pred = clf.predict(X_test)\n",
        "\n",
        "  return f1_score(y_test,y_pred, average='weighted')*100\n"
      ],
      "metadata": {
        "id": "oc6buaIFi8DZ"
      },
      "execution_count": 15,
      "outputs": []
    },
    {
      "cell_type": "code",
      "source": [
        "# plot depth vs f1 score \n",
        "depth_scores = {}\n",
        "for i in range (3,20):\n",
        " depth_scores[i] = test_max_depth(i)\n",
        "\n",
        "plt.plot(list(depth_scores.keys()),list(depth_scores.values()))\n",
        "plt.xlabel(\"Max depth value\")\n",
        "plt.ylabel(\"f1 score\")\n",
        "plt.show"
      ],
      "metadata": {
        "colab": {
          "base_uri": "https://localhost:8080/",
          "height": 296
        },
        "id": "d18Y0dXSjQiw",
        "outputId": "f4004e84-cd78-4180-d693-816da96d1bf4"
      },
      "execution_count": 16,
      "outputs": [
        {
          "output_type": "execute_result",
          "data": {
            "text/plain": [
              "<function matplotlib.pyplot.show>"
            ]
          },
          "metadata": {},
          "execution_count": 16
        },
        {
          "output_type": "display_data",
          "data": {
            "text/plain": [
              "<Figure size 432x288 with 1 Axes>"
            ],
            "image/png": "[encoded data removed]"
          },
          "metadata": {
            "needs_background": "light"
          }
        }
      ]
    },
    {
      "cell_type": "code",
      "source": [
        "#here we see random state value testing in action\n",
        "max = 0\n",
        "best_state = 0\n",
        "for i in range (30,200):\n",
        "  score = random_state(i)\n",
        "  if (score > max):\n",
        "      max = score\n",
        "      best_state = i\n",
        "\n",
        "print(\"best random state is %d\" % best_state)"
      ],
      "metadata": {
        "colab": {
          "base_uri": "https://localhost:8080/"
        },
        "id": "cvIvdiaFYGKi",
        "outputId": "d6d6d5d3-33fe-4a70-a541-88ad29553242"
      },
      "execution_count": 17,
      "outputs": [
        {
          "output_type": "stream",
          "name": "stdout",
          "text": [
            "best random state is 183\n"
          ]
        }
      ]
    },
    {
      "cell_type": "code",
      "source": [
        "#test between gini and entropy\n",
        "def test_criterion(criterion):\n",
        "\n",
        "  clf = DecisionTreeClassifier(criterion = criterion , random_state = 1,\n",
        "                               max_depth=14)\n",
        "\n",
        "  clf.fit(X_train, y_train)\n",
        "\n",
        "  y_pred = clf.predict(X_test)\n",
        "\n",
        "  print (\"Accuracy using %s criterion is %f\" %(criterion, accuracy_score(y_test,y_pred)*100))\n",
        "  print (\"F1 using %s criterion is %f\" %(criterion, f1_score(y_test,y_pred, average='weighted')*100))\n",
        "  print (\"Cohen Kappa using %s criterion is %f\" % (criterion, cohen_kappa_score(y_test,y_pred)*100))"
      ],
      "metadata": {
        "id": "PWDlPGu7kceq"
      },
      "execution_count": 18,
      "outputs": []
    },
    {
      "cell_type": "code",
      "source": [
        "test_criterion(\"gini\")\n",
        "test_criterion(\"entropy\")"
      ],
      "metadata": {
        "colab": {
          "base_uri": "https://localhost:8080/"
        },
        "id": "OJ2QS_NbkNbE",
        "outputId": "508c83c4-cd4e-4e66-d977-b85ef9f07432"
      },
      "execution_count": 19,
      "outputs": [
        {
          "output_type": "stream",
          "name": "stdout",
          "text": [
            "Accuracy using gini criterion is 72.474613\n",
            "F1 using gini criterion is 71.031825\n",
            "Cohen Kappa using gini criterion is 56.059684\n",
            "Accuracy using entropy criterion is 71.619455\n",
            "F1 using entropy criterion is 70.549879\n",
            "Cohen Kappa using entropy criterion is 55.197593\n"
          ]
        }
      ]
    }
  ]
}